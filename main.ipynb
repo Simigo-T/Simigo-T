import pandas as pd
import numpy as np
import seaborn as sns
import matplotlib.pyplot as plt
from sklearn.model_selection import train_test_split
from sklearn.metrics import accuracy_score
from sklearn.metrics import classification_report
import re
import string
from sklearn.metrics import confusion_matrix, accuracy_score
import lime
from lime import lime_text
import lime.lime_text
from sklearn.feature_extraction.text import TfidfVectorizer



# The orginal dataset
original_data_path = "Training_Essay_Data.csv"
df = pd.read_csv(original_data_path)

#Hardly paraphrased text By ChatGPT
original_data_path = "Attacked_Model_Text_Training_Essay_Data.csv"
df3 = pd.read_csv(original_data_path)

# The softly paraphrased text by ChatGPT
high_pharaphrased_data_path = "Deeply_Humanized_Training_Essay_Data.csv"
df2=pd.read_csv(high_pharaphrased_data_path)

# Medium paraphrased text by ChatGPT
high_pharaphrased_data_path = "Extensively_Humanized_Training_Essay_Data.csv"
df1=pd.read_csv(high_pharaphrased_data_path)

# The datsets below could be adapted after the code to get the accuracy for the datasets paraphrased by WordSpinner. 
'''
#WSO: The original sample of 10 human-written and 10 AI-written texts: WS0 
deep_pharaphrased_data_path = "Updated_AI_and_Human_Texts.csv" #Word spinner
df1=pd.read_csv(deep_pharaphrased_data_path)

# First iteration of pharaphrased from WSO: 
deep_pharaphrased_data_path = "Wordspinner2.csv" #Word spinner
df1=pd.read_csv(deep_pharaphrased_data_path)

# Second iteration of the file 
deep_pharaphrased_data_path = "wordspinner3.csv" #Word spinner
df2=pd.read_csv(deep_pharaphrased_data_path)

# The third pharaphrsing iteration on WordSpinner
deep_pharaphrased_data_path = "wordspinner3.csv" #Word spinner
df2=pd.read_csv(deep_pharaphrased_data_path)
'''
